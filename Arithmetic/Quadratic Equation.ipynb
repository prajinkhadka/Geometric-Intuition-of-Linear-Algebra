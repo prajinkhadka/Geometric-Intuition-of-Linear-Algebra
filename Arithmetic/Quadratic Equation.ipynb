{
 "cells": [
  {
   "cell_type": "code",
   "execution_count": 15,
   "metadata": {},
   "outputs": [],
   "source": [
    "import numpy as np\n",
    "\n",
    "import matplotlib.pyplot as plt"
   ]
  },
  {
   "cell_type": "code",
   "execution_count": 16,
   "metadata": {},
   "outputs": [
    {
     "name": "stdout",
     "output_type": "stream",
     "text": [
      "-1.0 -2.5\n"
     ]
    }
   ],
   "source": [
    "a =2\n",
    "b =7\n",
    "c =5\n",
    "\n",
    "\n",
    "quadeqP = ( -b + np.sqrt(b**2 - 4*a*c)) / (2*a)\n",
    "quadeqN = ( -b - np.sqrt(b**2 - 4*a*c)) / (2*a)\n",
    "\n",
    "print(quadeqP, quadeqN)"
   ]
  },
  {
   "cell_type": "code",
   "execution_count": 17,
   "metadata": {},
   "outputs": [
    {
     "name": "stdout",
     "output_type": "stream",
     "text": [
      "nan nan\n"
     ]
    },
    {
     "name": "stderr",
     "output_type": "stream",
     "text": [
      "<ipython-input-17-11566cb39800>:6: RuntimeWarning: invalid value encountered in sqrt\n",
      "  quadeqP = ( -b + np.sqrt(b**2 - 4*a*c)) / (2*a)\n",
      "<ipython-input-17-11566cb39800>:7: RuntimeWarning: invalid value encountered in sqrt\n",
      "  quadeqN = ( -b - np.sqrt(b**2 - 4*a*c)) / (2*a)\n"
     ]
    }
   ],
   "source": [
    "a =3\n",
    "b =7\n",
    "c =5\n",
    "\n",
    "\n",
    "quadeqP = ( -b + np.sqrt(b**2 - 4*a*c)) / (2*a)\n",
    "quadeqN = ( -b - np.sqrt(b**2 - 4*a*c)) / (2*a)\n",
    "\n",
    "print(quadeqP, quadeqN) # Sqrt method of Numpy cant handle complex "
   ]
  },
  {
   "cell_type": "code",
   "execution_count": 18,
   "metadata": {},
   "outputs": [],
   "source": [
    "# lets start using  scipy"
   ]
  },
  {
   "cell_type": "code",
   "execution_count": 19,
   "metadata": {},
   "outputs": [],
   "source": [
    "import scipy as sp"
   ]
  },
  {
   "cell_type": "code",
   "execution_count": 20,
   "metadata": {},
   "outputs": [
    {
     "name": "stdout",
     "output_type": "stream",
     "text": [
      "(-1.1666666666666665+0.5527707983925666j) (-1.1666666666666665-0.5527707983925666j)\n"
     ]
    },
    {
     "name": "stderr",
     "output_type": "stream",
     "text": [
      "<ipython-input-20-45167b27660d>:6: DeprecationWarning: scipy.sqrt is deprecated and will be removed in SciPy 2.0.0, use numpy.lib.scimath.sqrt instead\n",
      "  quadeqP = ( -b + sp.sqrt(b**2 - 4*a*c)) / (2*a)\n",
      "<ipython-input-20-45167b27660d>:7: DeprecationWarning: scipy.sqrt is deprecated and will be removed in SciPy 2.0.0, use numpy.lib.scimath.sqrt instead\n",
      "  quadeqN = ( -b - sp.sqrt(b**2 - 4*a*c)) / (2*a)\n"
     ]
    }
   ],
   "source": [
    "a =3\n",
    "b =7\n",
    "c =5\n",
    "\n",
    "\n",
    "quadeqP = ( -b + sp.sqrt(b**2 - 4*a*c)) / (2*a)\n",
    "quadeqN = ( -b - sp.sqrt(b**2 - 4*a*c)) / (2*a)\n",
    "\n",
    "print(quadeqP, quadeqN) # Sqrt method of Numpy cant handle complex "
   ]
  },
  {
   "cell_type": "code",
   "execution_count": 21,
   "metadata": {},
   "outputs": [],
   "source": [
    "def quadeq(a,b,c):\n",
    "    \n",
    "    # initialze\n",
    "    out = sp.zeros(2)\n",
    "    \n",
    "    # compute\n",
    "    \n",
    "    out[0] = ( -b + sp.sqrt(b**2 - 4*a*c)) / (2*a)\n",
    "    out[1] = ( -b - sp.sqrt(b**2 - 4*a*c)) /(2*a)\n",
    "    return out"
   ]
  },
  {
   "cell_type": "code",
   "execution_count": 22,
   "metadata": {},
   "outputs": [
    {
     "name": "stderr",
     "output_type": "stream",
     "text": [
      "<ipython-input-21-61465882c6fd>:4: DeprecationWarning: scipy.zeros is deprecated and will be removed in SciPy 2.0.0, use numpy.zeros instead\n",
      "  out = sp.zeros(2)\n",
      "<ipython-input-21-61465882c6fd>:8: DeprecationWarning: scipy.sqrt is deprecated and will be removed in SciPy 2.0.0, use numpy.lib.scimath.sqrt instead\n",
      "  out[0] = ( -b + sp.sqrt(b**2 - 4*a*c)) / (2*a)\n",
      "<ipython-input-21-61465882c6fd>:9: DeprecationWarning: scipy.sqrt is deprecated and will be removed in SciPy 2.0.0, use numpy.lib.scimath.sqrt instead\n",
      "  out[1] = ( -b - sp.sqrt(b**2 - 4*a*c)) /(2*a)\n",
      "<ipython-input-21-61465882c6fd>:8: ComplexWarning: Casting complex values to real discards the imaginary part\n",
      "  out[0] = ( -b + sp.sqrt(b**2 - 4*a*c)) / (2*a)\n",
      "<ipython-input-21-61465882c6fd>:9: ComplexWarning: Casting complex values to real discards the imaginary part\n",
      "  out[1] = ( -b - sp.sqrt(b**2 - 4*a*c)) /(2*a)\n"
     ]
    },
    {
     "data": {
      "text/plain": [
       "<matplotlib.image.AxesImage at 0x7f2701c21610>"
      ]
     },
     "execution_count": 22,
     "metadata": {},
     "output_type": "execute_result"
    },
    {
     "data": {
      "image/png": "[encoded data removed]",
      "text/plain": [
       "<Figure size 432x288 with 1 Axes>"
      ]
     },
     "metadata": {
      "needs_background": "light"
     },
     "output_type": "display_data"
    }
   ],
   "source": [
    "a =1\n",
    "b = range(-5,6)\n",
    "c = range(-2,11)\n",
    "\n",
    "M = np.zeros((len(b), len(c)))\n",
    "\n",
    "for bi in range(0, len(b)):\n",
    "    for ci in range(0, len(c)):\n",
    "        M[bi, ci] = quadeq(a, b[bi],c[ci])[0]\n",
    "        \n",
    "plt.imshow(M)"
   ]
  },
  {
   "cell_type": "code",
   "execution_count": null,
   "metadata": {},
   "outputs": [],
   "source": []
  },
  {
   "cell_type": "code",
   "execution_count": null,
   "metadata": {},
   "outputs": [],
   "source": []
  }
 ],
 "metadata": {
  "kernelspec": {
   "display_name": "Python 3",
   "language": "python",
   "name": "python3"
  },
  "language_info": {
   "codemirror_mode": {
    "name": "ipython",
    "version": 3
   },
   "file_extension": ".py",
   "mimetype": "text/x-python",
   "name": "python",
   "nbconvert_exporter": "python",
   "pygments_lexer": "ipython3",
   "version": "3.8.1"
  }
 },
 "nbformat": 4,
 "nbformat_minor": 4
}
