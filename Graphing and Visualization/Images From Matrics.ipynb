{
 "cells": [
  {
   "cell_type": "code",
   "execution_count": 1,
   "metadata": {},
   "outputs": [],
   "source": [
    "import numpy as np\n",
    "import matplotlib.pyplot as plt"
   ]
  },
  {
   "cell_type": "code",
   "execution_count": 3,
   "metadata": {},
   "outputs": [
    {
     "data": {
      "text/plain": [
       "<matplotlib.image.AxesImage at 0x7f613fe8efa0>"
      ]
     },
     "execution_count": 3,
     "metadata": {},
     "output_type": "execute_result"
    },
    {
     "data": {
      "image/png": "[encoded data removed]",
      "text/plain": [
       "<Figure size 432x288 with 1 Axes>"
      ]
     },
     "metadata": {
      "needs_background": "light"
     },
     "output_type": "display_data"
    }
   ],
   "source": [
    "A =[[1,2], [1,4]]\n",
    "\n",
    "plt.xticks([0,1])\n",
    "plt.imshow(A)"
   ]
  },
  {
   "cell_type": "code",
   "execution_count": 6,
   "metadata": {},
   "outputs": [
    {
     "name": "stdout",
     "output_type": "stream",
     "text": [
      "[[  0.  -4.  -8. -12. -16. -20. -24. -28. -32. -36. -40. -44. -48. -52.]\n",
      " [  3.  -1.  -5.  -9. -13. -17. -21. -25. -29. -33. -37. -41. -45. -49.]\n",
      " [  6.   2.  -2.  -6. -10. -14. -18. -22. -26. -30. -34. -38. -42. -46.]\n",
      " [  9.   5.   1.  -3.  -7. -11. -15. -19. -23. -27. -31. -35. -39. -43.]\n",
      " [ 12.   8.   4.   0.  -4.  -8. -12. -16. -20. -24. -28. -32. -36. -40.]\n",
      " [ 15.  11.   7.   3.  -1.  -5.  -9. -13. -17. -21. -25. -29. -33. -37.]\n",
      " [ 18.  14.  10.   6.   2.  -2.  -6. -10. -14. -18. -22. -26. -30. -34.]\n",
      " [ 21.  17.  13.   9.   5.   1.  -3.  -7. -11. -15. -19. -23. -27. -31.]\n",
      " [ 24.  20.  16.  12.   8.   4.   0.  -4.  -8. -12. -16. -20. -24. -28.]\n",
      " [ 27.  23.  19.  15.  11.   7.   3.  -1.  -5.  -9. -13. -17. -21. -25.]]\n"
     ]
    },
    {
     "data": {
      "text/plain": [
       "[<matplotlib.lines.Line2D at 0x7f61401c70a0>]"
      ]
     },
     "execution_count": 6,
     "metadata": {},
     "output_type": "execute_result"
    },
    {
     "data": {
      "image/png": "[encoded data removed]",
      "text/plain": [
       "<Figure size 432x288 with 1 Axes>"
      ]
     },
     "metadata": {
      "needs_background": "light"
     },
     "output_type": "display_data"
    }
   ],
   "source": [
    "A = np.zeros((10,14))\n",
    "\n",
    "for i in range(0,np.shape(A)[0]):\n",
    "    for j in range(0, np.shape(A)[1]):\n",
    "        A[i,j] = 3*i - 4*j\n",
    "        \n",
    "print(A)\n",
    "\n",
    "plt.imshow(A)\n",
    "\n",
    "plt.plot([0,3],[8,2], 'r')\n",
    "    "
   ]
  },
  {
   "cell_type": "code",
   "execution_count": 7,
   "metadata": {},
   "outputs": [],
   "source": [
    "# lets try another one\n"
   ]
  },
  {
   "cell_type": "code",
   "execution_count": 9,
   "metadata": {},
   "outputs": [
    {
     "data": {
      "image/png": "[encoded data removed]",
      "text/plain": [
       "<Figure size 432x288 with 1 Axes>"
      ]
     },
     "metadata": {
      "needs_background": "light"
     },
     "output_type": "display_data"
    }
   ],
   "source": [
    "N =10\n",
    "\n",
    "c = np.zeros((N,N))\n",
    "\n",
    "for i in range(0,N):\n",
    "    for j in range(0,N):\n",
    "        c[i,j] = (-1)**(i+j)\n",
    "        \n",
    "plt.imshow(c)\n",
    "plt.set_cmap('gray')"
   ]
  },
  {
   "cell_type": "code",
   "execution_count": null,
   "metadata": {},
   "outputs": [],
   "source": []
  }
 ],
 "metadata": {
  "kernelspec": {
   "display_name": "Python 3",
   "language": "python",
   "name": "python3"
  },
  "language_info": {
   "codemirror_mode": {
    "name": "ipython",
    "version": 3
   },
   "file_extension": ".py",
   "mimetype": "text/x-python",
   "name": "python",
   "nbconvert_exporter": "python",
   "pygments_lexer": "ipython3",
   "version": "3.8.1"
  }
 },
 "nbformat": 4,
 "nbformat_minor": 4
}
